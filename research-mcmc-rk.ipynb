{
 "cells": [
  {
   "cell_type": "code",
   "execution_count": 1,
   "id": "a445e139-a70f-42a7-b622-ce7b59ecce1c",
   "metadata": {},
   "outputs": [],
   "source": [
    "#! /usr/bin/python\n",
    "# -*- coding: utf-8 -*-\n",
    "# @author izhangxm\n",
    "# Copyright 2017 izhangxm@gmail.com. All Rights Reserved.\n",
    "#\n",
    "# Licensed under the Apache License, Version 2.0 (the \"License\");\n",
    "# you may not use this file except in compliance with the License.\n",
    "# You may obtain a copy of the License at\n",
    "#\n",
    "#     http://www.apache.org/licenses/LICENSE-2.0\n",
    "#\n",
    "# Unless required by applicable law or agreed to in writing, software\n",
    "# distributed under the License is distributed on an \"AS IS\" BASIS,\n",
    "# WITHOUT WARRANTIES OR CONDITIONS OF ANY KIND, either express or implied.\n",
    "# See the License for the specific language governing permissions and\n",
    "# limitations under the License.\n",
    "# =============================================================================="
   ]
  },
  {
   "cell_type": "code",
   "execution_count": 21,
   "id": "09fda08e-37e5-470c-aca7-49be59cc4cf9",
   "metadata": {},
   "outputs": [],
   "source": [
    "import arviz as az\n",
    "import pandas as pd\n",
    "import matplotlib.pyplot as plt\n",
    "import numpy as np\n",
    "import pymc as pm\n",
    "from itertools import product\n",
    "import os.path as osp\n",
    "from scipy.optimize import leastsq\n",
    "import time\n",
    "from scipy.integrate import solve_ivp\n",
    "from scipy.integrate import odeint\n",
    "import math\n",
    "import sunode\n",
    "import sunode.wrappers.as_pytensor\n",
    "from copy import deepcopy\n",
    "\n",
    "# from tqdm import tqdm, trange\n",
    "from tqdm.notebook import  tqdm\n",
    "from IPython.display import display as print\n",
    "from datetime import datetime\n",
    "\n",
    "%config InlineBackend.figure_format = 'retina'\n",
    "az.style.use(\"arviz-darkgrid\")\n",
    "\n",
    "from core_lib import MyDataset, get_format_time, plot_dataset, get_dcdt_func_for_sunode, get_dcdts_for_scipy_odeint, get_dcdts_for_solve_ivp\n",
    "from core_lib import get_predict_ks\n",
    "from core_lib import r2_loss\n",
    "\n"
   ]
  },
  {
   "cell_type": "code",
   "execution_count": 103,
   "id": "3051c970",
   "metadata": {},
   "outputs": [],
   "source": [
    "# simulator function\n",
    "def competition_model(rng, t_eval, y0,  ks, k_kinetics, size=None):\n",
    "    # print(y0)\n",
    "    y = odeint(get_dcdts_for_scipy_odeint(), y0=y0, t=t_eval, args=(ks, k_kinetics))\n",
    "    return y"
   ]
  },
  {
   "cell_type": "code",
   "execution_count": 92,
   "id": "a80b5701-2324-4e1e-bfb9-fbf50a15b016",
   "metadata": {},
   "outputs": [],
   "source": [
    "\n",
    "def get_model(dataset, k_kinetics, k_sigma_priors=0.01, kf_type=0):\n",
    "\n",
    "    df = dataset.get_df()\n",
    "    times = df['time'].values\n",
    "    \n",
    "    errors = dataset.get_errors()\n",
    "    rates = dataset.get_rates()\n",
    "    cct_names, error_names = dataset.get_var_col_names()\n",
    "        \n",
    "    # 定义参数优化模型\n",
    "    mcmc_model = pm.Model()\n",
    "    ## 参数个数\n",
    "    params_n = 11\n",
    "    parames ={}\n",
    "    \n",
    "    with mcmc_model:\n",
    "        for ki in range(1, params_n + 1):\n",
    "            if kf_type == 0:\n",
    "                p_dense = pm.HalfNormal(f\"k{ki}\", sigma=k_sigma_priors)\n",
    "            else:\n",
    "                p_dense = pm.Normal(f\"k{ki}\",mu=0, sigma=k_sigma_priors)\n",
    "            parames[f\"k{ki}\"] = (p_dense, ())\n",
    "    \n",
    "    # parames['k_kinetics'] = np.array(k_kinetics, dtype=np.float64)\n",
    "    parames['extra']=  np.zeros(1)\n",
    "    \n",
    "    c0 = {}\n",
    "    with mcmc_model:\n",
    "        for c_name in cct_names:\n",
    "            _maxx = df[c_name].values.max()\n",
    "            c0[f\"{c_name}\"] = (pm.HalfNormal(f\"{c_name}_s\", sigma=_maxx), ())\n",
    "            # c0[f\"{c_name}\"] = (pm.Normal(f\"{c_name}_s\", mu=_meanx, sigma=s), ())\n",
    "    \n",
    "        y_hat, _, problem, solver, _, _ = sunode.wrappers.as_pytensor.solve_ivp(\n",
    "            y0=c0,\n",
    "            params=parames,\n",
    "            rhs=get_dcdt_func_for_sunode(k_kinetics),\n",
    "            tvals=times,\n",
    "            t0=times[0],\n",
    "        )\n",
    "        \n",
    "        sd = pm.HalfNormal('sd')\n",
    "        for c_name in cct_names:\n",
    "            pm.Normal(f'{c_name}', mu=y_hat[f\"{c_name}\"], sigma=sd, observed=df[f\"{c_name}\"].values)\n",
    "            pm.Deterministic(f'{c_name}_mu', y_hat[f\"{c_name}\"])\n",
    "    return mcmc_model"
   ]
  },
  {
   "cell_type": "code",
   "execution_count": 94,
   "id": "9fbc7fca",
   "metadata": {
    "collapsed": false,
    "jupyter": {
     "outputs_hidden": false
    }
   },
   "outputs": [],
   "source": [
    "# k_kinetics = np.repeat(1, 11).astype(np.uint8)\n",
    "k_kinetics = np.array([0,1,1,1,1,0,0,1,1,1,0])\n",
    "# ks = np.random.random(11)/100 # 先验k\n",
    "ks = np.array([0.00071942, 0.00269696, 0.00498945, 0.00444931, 0.00571299, 0.00801272, 0.00131931, 0.00319959, 0.00415571, 0.00228432, 0.00177611])\n",
    "#  =======================================================\n",
    "\n",
    "# t_eval = np.arange(0, 150, 5)\n",
    "\n",
    "dataset = MyDataset(\"dataset/data.csv\")\n",
    "df = dataset.get_df()\n",
    "cct_names, error_names = dataset.get_var_col_names()\n",
    "\n",
    "# c0 = df[cct_names].iloc[0].values\n",
    "# dataset.set_as_sim_dataset(dcdt_func_for_odeint, t_eval, c0, args=(ks, k_kinetics))\n",
    "# df = dataset.get_df()\n",
    "\n",
    "# plot_dataset(dataset=dataset)\n",
    "mcmc_model = get_model(dataset, k_kinetics, k_sigma_priors=0.01, kf_type=0)\n"
   ]
  },
  {
   "cell_type": "code",
   "execution_count": null,
   "id": "ea209c01",
   "metadata": {},
   "outputs": [],
   "source": [
    "plot_dataset(dataset=dataset)"
   ]
  },
  {
   "cell_type": "code",
   "execution_count": null,
   "id": "bf4ee52b-5205-49a2-8e94-e4e8d2ea0bcc",
   "metadata": {
    "tags": []
   },
   "outputs": [],
   "source": [
    "idata = pm.sample(draws=1000, model=mcmc_model, chains=4, cores=4)"
   ]
  },
  {
   "cell_type": "code",
   "execution_count": 104,
   "id": "a33528b3-c46a-4170-a7c5-c1381fd4e931",
   "metadata": {},
   "outputs": [
    {
     "data": {
      "text/plain": [
       "array([9.46627500e-04, 1.80282300e-04, 7.75364680e-03, 2.25054380e-03,\n",
       "       9.93785290e-03, 1.11419580e-03, 2.06023280e-03, 1.56184350e-03,\n",
       "       1.66389505e-02, 6.79560000e-05, 1.19875624e-02])"
      ]
     },
     "metadata": {},
     "output_type": "display_data"
    },
    {
     "data": {
      "text/html": [
       "<div>\n",
       "<style scoped>\n",
       "    .dataframe tbody tr th:only-of-type {\n",
       "        vertical-align: middle;\n",
       "    }\n",
       "\n",
       "    .dataframe tbody tr th {\n",
       "        vertical-align: top;\n",
       "    }\n",
       "\n",
       "    .dataframe thead th {\n",
       "        text-align: right;\n",
       "    }\n",
       "</style>\n",
       "<table border=\"1\" class=\"dataframe\">\n",
       "  <thead>\n",
       "    <tr style=\"text-align: right;\">\n",
       "      <th></th>\n",
       "      <th>xNH3</th>\n",
       "      <th>xNO3</th>\n",
       "      <th>xNO2</th>\n",
       "      <th>xNOrg</th>\n",
       "      <th>xN2</th>\n",
       "      <th>ANH3</th>\n",
       "      <th>ANO3</th>\n",
       "      <th>ANO2</th>\n",
       "      <th>ANOrg</th>\n",
       "      <th>AN2</th>\n",
       "    </tr>\n",
       "  </thead>\n",
       "  <tbody>\n",
       "    <tr>\n",
       "      <th>0</th>\n",
       "      <td>0.924</td>\n",
       "      <td>2.851</td>\n",
       "      <td>0.069</td>\n",
       "      <td>62.093</td>\n",
       "      <td>0.000</td>\n",
       "      <td>8.082</td>\n",
       "      <td>0.621</td>\n",
       "      <td>0.060</td>\n",
       "      <td>0.059</td>\n",
       "      <td>0.026</td>\n",
       "    </tr>\n",
       "    <tr>\n",
       "      <th>1</th>\n",
       "      <td>0.649</td>\n",
       "      <td>2.862</td>\n",
       "      <td>0.155</td>\n",
       "      <td>62.135</td>\n",
       "      <td>0.068</td>\n",
       "      <td>4.992</td>\n",
       "      <td>0.548</td>\n",
       "      <td>0.320</td>\n",
       "      <td>0.124</td>\n",
       "      <td>0.651</td>\n",
       "    </tr>\n",
       "    <tr>\n",
       "      <th>2</th>\n",
       "      <td>0.538</td>\n",
       "      <td>2.903</td>\n",
       "      <td>0.173</td>\n",
       "      <td>62.011</td>\n",
       "      <td>0.156</td>\n",
       "      <td>2.712</td>\n",
       "      <td>0.498</td>\n",
       "      <td>0.321</td>\n",
       "      <td>0.151</td>\n",
       "      <td>0.534</td>\n",
       "    </tr>\n",
       "    <tr>\n",
       "      <th>3</th>\n",
       "      <td>0.492</td>\n",
       "      <td>2.950</td>\n",
       "      <td>0.178</td>\n",
       "      <td>61.824</td>\n",
       "      <td>0.246</td>\n",
       "      <td>1.413</td>\n",
       "      <td>0.460</td>\n",
       "      <td>0.330</td>\n",
       "      <td>0.162</td>\n",
       "      <td>0.456</td>\n",
       "    </tr>\n",
       "  </tbody>\n",
       "</table>\n",
       "</div>"
      ],
      "text/plain": [
       "    xNH3   xNO3   xNO2   xNOrg    xN2   ANH3   ANO3   ANO2  ANOrg    AN2\n",
       "0  0.924  2.851  0.069  62.093  0.000  8.082  0.621  0.060  0.059  0.026\n",
       "1  0.649  2.862  0.155  62.135  0.068  4.992  0.548  0.320  0.124  0.651\n",
       "2  0.538  2.903  0.173  62.011  0.156  2.712  0.498  0.321  0.151  0.534\n",
       "3  0.492  2.950  0.178  61.824  0.246  1.413  0.460  0.330  0.162  0.456"
      ]
     },
     "metadata": {},
     "output_type": "display_data"
    }
   ],
   "source": [
    "def get_result(dataset, idata):\n",
    "    res_df = az.summary(idata)\n",
    "    \n",
    "    predict_ks = get_predict_ks(idata=idata)\n",
    "    df = dataset.get_df()\n",
    "    times = df['time'].values\n",
    "    \n",
    "    cct_names, error_names = dataset.get_var_col_names()\n",
    "    \n",
    "    c_df = pd.DataFrame(columns=cct_names)\n",
    "    t_n = len(times)\n",
    "    for c_name in cct_names:\n",
    "        c_value = []\n",
    "        for i in range(t_n):\n",
    "            _x = res_df['mean'][f\"{c_name}_mu[{i}]\"]\n",
    "            c_value.append(_x)\n",
    "        c_df[c_name] = c_value\n",
    "    \n",
    "    return predict_ks, c_df\n",
    "\n",
    "predict_ks, c_df = get_result(dataset, idata)\n",
    "\n",
    "print(predict_ks)\n",
    "print(c_df[cct_names])\n",
    "# print(az.summary(idata))"
   ]
  },
  {
   "cell_type": "code",
   "execution_count": null,
   "id": "4dc0197c",
   "metadata": {},
   "outputs": [],
   "source": [
    "c_df['time']  = df['time'].values\n",
    "dataset_new = MyDataset(\"dataset/data.csv\")\n",
    "dataset_new.set_dataset(c_df)\n",
    "plot_dataset(dataset, dataset_pred=dataset_new)\n"
   ]
  },
  {
   "cell_type": "code",
   "execution_count": 106,
   "id": "45194ad8",
   "metadata": {
    "collapsed": false,
    "jupyter": {
     "outputs_hidden": false
    }
   },
   "outputs": [
    {
     "data": {
      "text/plain": [
       "0.9992822993532159"
      ]
     },
     "metadata": {},
     "output_type": "display_data"
    },
    {
     "data": {
      "text/plain": [
       "'r2: xNH3 -0.8926770700262396'"
      ]
     },
     "metadata": {},
     "output_type": "display_data"
    },
    {
     "data": {
      "text/plain": [
       "'r2: xNO3 -85.8514520337752'"
      ]
     },
     "metadata": {},
     "output_type": "display_data"
    },
    {
     "data": {
      "text/plain": [
       "'r2: xNO2 -5.94321655742469'"
      ]
     },
     "metadata": {},
     "output_type": "display_data"
    },
    {
     "data": {
      "text/plain": [
       "'r2: xNOrg -13.762082355263884'"
      ]
     },
     "metadata": {},
     "output_type": "display_data"
    },
    {
     "data": {
      "text/plain": [
       "'r2: xN2 -1.6093833586887976'"
      ]
     },
     "metadata": {},
     "output_type": "display_data"
    },
    {
     "data": {
      "text/plain": [
       "'r2: ANH3 0.9865236241877875'"
      ]
     },
     "metadata": {},
     "output_type": "display_data"
    },
    {
     "data": {
      "text/plain": [
       "'r2: ANO3 -448.7425181981374'"
      ]
     },
     "metadata": {},
     "output_type": "display_data"
    },
    {
     "data": {
      "text/plain": [
       "'r2: ANO2 -2.4792918569177638'"
      ]
     },
     "metadata": {},
     "output_type": "display_data"
    },
    {
     "data": {
      "text/plain": [
       "'r2: ANOrg -3.5620796821307694'"
      ]
     },
     "metadata": {},
     "output_type": "display_data"
    },
    {
     "data": {
      "text/plain": [
       "'r2: AN2 -2.8811935399551487'"
      ]
     },
     "metadata": {},
     "output_type": "display_data"
    }
   ],
   "source": [
    "r2_all = r2_loss(dataset.get_cct(), c_df[cct_names].values)\n",
    "\n",
    "for c_name in cct_names:\n",
    "    _loss = r2_loss(dataset.df[c_name].values, c_df[c_name].values)\n",
    "    print(f\"r2: {c_name} {_loss}\")\n"
   ]
  },
  {
   "cell_type": "code",
   "execution_count": null,
   "id": "208c571b-3326-4315-946a-60be67f1779d",
   "metadata": {},
   "outputs": [],
   "source": [
    "k_kinetics = np.array([0,1,1,1,1,0,0,1,1,1,0])\n",
    "\n",
    "ks = predict_ks\n",
    "t_eval = np.arange(0, 150, 1)\n",
    "c0 = df[cct_names].iloc[0].values\n",
    "cs = odeint(get_dcdts_for_scipy_odeint(), c0, t=t_eval, args=(ks, k_kinetics))\n",
    "# res = odeint(func=dcdt_func2, y0=c0, t=t_eval, args=(ks,k_kinetics))\n",
    "# cs = np.transpose(res, [1,0])\n",
    "\n",
    "print(cs.shape)\n",
    "\n",
    "cols = 5\n",
    "rows = math.ceil(len(cct_names) / cols)\n",
    "\n",
    "fig, fig_axes = plt.subplots(ncols=cols, nrows=rows, figsize=(4.2 * cols, 4 * rows), dpi=100)\n",
    "if isinstance(fig_axes, np.ndarray):\n",
    "    fig_axes = fig_axes.reshape(-1)\n",
    "else:\n",
    "    fig_axes = [fig_axes]\n",
    "\n",
    "for i, axes in enumerate(fig_axes):\n",
    "    if i >= len(cct_names):\n",
    "        axes.axis('off')\n",
    "        continue\n",
    "\n",
    "    y_name = cct_names[i]\n",
    "    Y = df[y_name].values\n",
    "    axes.plot(df['time'].values, Y, '*', label=f\"ob\")\n",
    "    axes.set_ylabel(f'cct_{y_name}')\n",
    "    axes.set_xlabel(f'time(h)')\n",
    "\n",
    "    # axes.plot(df['time'].values, df[rates_names[i]].values, '+', label=f\"rate\")\n",
    "    \n",
    "    axes.plot(t_eval, cs[:, i], 'r', label=f\"c(t)\")\n",
    "    # axes.plot(t_eval, dcdt_df[y_name].values,'g', label=f\"c'(t)\")\n",
    "\n",
    "    axes.legend()\n",
    "    # axes.set_title(f\"{y_name}\", fontsize=14)\n",
    "\n",
    "plt.tight_layout()\n",
    "plt.show()\n",
    "\n"
   ]
  }
 ],
 "metadata": {
  "kernelspec": {
   "display_name": "pymcmain",
   "language": "python",
   "name": "python3"
  },
  "language_info": {
   "codemirror_mode": {
    "name": "ipython",
    "version": 3
   },
   "file_extension": ".py",
   "mimetype": "text/x-python",
   "name": "python",
   "nbconvert_exporter": "python",
   "pygments_lexer": "ipython3",
   "version": "3.9.15"
  },
  "vscode": {
   "interpreter": {
    "hash": "cbd2c194b49ea80345e8ea18e3a6000c76ee140cf13f4f15affb9019c7957e43"
   }
  }
 },
 "nbformat": 4,
 "nbformat_minor": 5
}
