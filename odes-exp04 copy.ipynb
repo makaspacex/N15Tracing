{
 "cells": [
  {
   "cell_type": "code",
   "execution_count": null,
   "id": "23239e1e-3500-4e02-90a8-12f9565be6b0",
   "metadata": {
    "tags": []
   },
   "outputs": [],
   "source": [
    "import arviz as az\n",
    "import pandas as pd\n",
    "import matplotlib.pyplot as plt\n",
    "import numpy as np\n",
    "import pymc as pm\n",
    "import pickle\n",
    "\n",
    "%config InlineBackend.figure_format = 'retina'\n",
    "az.style.use(\"arviz-darkgrid\")\n",
    "from IPython.display import display as print\n",
    "from core_lib import MyDataset, plot_dataset,r2_loss,get_predict_ks, get_dcdt_func_for_sunode\n",
    "from core_lib import get_predict_starts\n",
    "from core_lib import get_model, get_model2, distance_func, MY_EPSILON\n"
   ]
  },
  {
   "cell_type": "code",
   "execution_count": null,
   "id": "1f378d84-f7c0-4d76-b168-1a41f554d200",
   "metadata": {
    "tags": []
   },
   "outputs": [],
   "source": [
    "db_csv_path = \"dataset/data.csv\"\n",
    "idata_save_path = \"runtime/pts/odes-exp04-idata-4-number-1core-c0number-halfnormks-from-core.py-success.dt\"\n",
    "\n",
    "dataset_ori = MyDataset(db_csv_path)\n",
    "df_ori = dataset_ori.get_df()\n",
    "cct_names, error_names = dataset_ori.get_var_col_names()\n",
    "c0 = df_ori[cct_names].iloc[0].values\n"
   ]
  },
  {
   "cell_type": "code",
   "execution_count": null,
   "id": "fb23b01b",
   "metadata": {
    "tags": []
   },
   "outputs": [],
   "source": [
    "# 假设都是一级动力学\n",
    "k_kinetics = np.repeat(1, 11).astype(np.uint8)\n",
    "# k_kinetics = np.array([0,0,0,0,1,1,0,0,1,1,0]).astype(np.uint8)\n",
    "ks = np.array([0.00071942, 0.00269696, 0.00498945, 0.00444931, 0.00571299, 0.00801272, 0.00131931, 0.00319959, 0.00415571, 0.00228432, 0.00177611])\n",
    "#  =======================================================\n",
    "\n",
    "# t_eval = np.linspace(0, 150, 100)\n",
    "t_eval = np.array([0.5, 48, 96, 144])\n",
    "\n",
    "dataset = MyDataset(db_csv_path)\n",
    "df = dataset.get_df()\n",
    "cct_names, error_names = dataset.get_var_col_names()\n",
    "c0 = df[cct_names].iloc[0].values\n",
    "\n",
    "dataset.set_as_sim_dataset(t_eval, c0, t0=0.5, args=(ks, k_kinetics))\n",
    "df = dataset.get_df()\n",
    "\n",
    "plot_dataset(dataset, dataset)"
   ]
  },
  {
   "cell_type": "code",
   "execution_count": null,
   "id": "4c23923d",
   "metadata": {
    "tags": []
   },
   "outputs": [],
   "source": [
    "\n",
    "mcmc_model = get_model(dataset, t_eval, k_kinetics, distance=distance_func, epsilon=MY_EPSILON, k_sigma_priors=0.01, kf_type=0, c0_type=0)"
   ]
  },
  {
   "cell_type": "code",
   "execution_count": null,
   "id": "0af881ba-3791-41a4-9853-b1572c2a331d",
   "metadata": {
    "tags": []
   },
   "outputs": [],
   "source": [
    "# print(get_format_time(),idata_save_path)\n",
    "# print(ks, c0)\n",
    "pm.model_to_graphviz(mcmc_model)"
   ]
  },
  {
   "cell_type": "code",
   "execution_count": null,
   "id": "35e916d2-0a9a-4037-8b77-3864b81b92a3",
   "metadata": {
    "tags": []
   },
   "outputs": [],
   "source": [
    "print(idata_save_path)\n",
    "idata_lv = pickle.load(open(idata_save_path, 'rb'))\n",
    "\n",
    "# idata_lv = pm.sample_smc(draws=2000, chains=1, model=mcmc_model, progressbar=True)\n",
    "# pickle.dump(idata_lv,open(idata_save_path, 'wb'))"
   ]
  },
  {
   "cell_type": "code",
   "execution_count": null,
   "id": "db74a58c-114a-4c26-a4be-d7395f9c8069",
   "metadata": {
    "tags": []
   },
   "outputs": [],
   "source": [
    "# az.plot_trace(idata_lv, kind=\"rank_vlines\");\n",
    "df[cct_names]"
   ]
  },
  {
   "cell_type": "code",
   "execution_count": null,
   "id": "c434a03e-bec5-43ee-ab4c-0665c6a2709b",
   "metadata": {
    "tags": []
   },
   "outputs": [],
   "source": [
    "print(az.summary(idata_lv, round_to=10))\n",
    "print(ks)"
   ]
  },
  {
   "cell_type": "code",
   "execution_count": null,
   "id": "25ba8da8-2a6f-4f25-a4cc-794aaef8186b",
   "metadata": {
    "tags": []
   },
   "outputs": [],
   "source": [
    "ks_predict = get_predict_ks(idata_lv)\n",
    "k_kinetics = np.repeat(1, 11).astype(np.uint8)\n",
    "t_eval = np.array([0.5, 48, 96, 144])\n",
    "\n",
    "dataset_new = MyDataset(db_csv_path)\n",
    "cct_names, error_names = dataset_new.get_var_col_names()\n",
    "gt_s = dataset_new.get_cct()[0]\n",
    "\n",
    "dataset_new.set_as_sim_dataset(t_eval, gt_s, t0=0.5, args=(ks_predict, k_kinetics))\n",
    "plot_dataset(dataset, dataset_new)\n",
    "# print(\"r2_loss\", r2_loss(dataset_new.get_cct(), dataset.get_cct()))\n",
    "\n",
    "\n",
    "t_eval_new = np.linspace(0.5, 150, 200)\n",
    "dataset_new2 = MyDataset(db_csv_path)\n",
    "dataset_new2.set_as_sim_dataset(t_eval_new, gt_s, t0=0.5, args=(ks_predict, k_kinetics))\n",
    "plot_dataset(dataset, dataset_new2)"
   ]
  },
  {
   "cell_type": "code",
   "execution_count": null,
   "id": "f0a9070e",
   "metadata": {},
   "outputs": [],
   "source": []
  }
 ],
 "metadata": {
  "kernelspec": {
   "display_name": "Python 3 (ipykernel)",
   "language": "python",
   "name": "python3"
  },
  "language_info": {
   "codemirror_mode": {
    "name": "ipython",
    "version": 3
   },
   "file_extension": ".py",
   "mimetype": "text/x-python",
   "name": "python",
   "nbconvert_exporter": "python",
   "pygments_lexer": "ipython3",
   "version": "3.9.15"
  },
  "vscode": {
   "interpreter": {
    "hash": "1cc05d71c091818f3a20105c117b9e65164e6ad677e8fb3b94fb2c20e86bdea0"
   }
  }
 },
 "nbformat": 4,
 "nbformat_minor": 5
}
